{
 "cells": [
  {
   "cell_type": "code",
   "execution_count": null,
   "metadata": {},
   "outputs": [],
   "source": [
    "import pandas as pd\n",
    "\n",
    "def clean_data(df):\n",
    "    # Filtrar linhas com base na coluna: 'username'\n",
    "    df = df.set_index('username')\n",
    "    df = df.filter(regex='^\\d+',axis=0)\n",
    "    return df\n",
    "\n",
    "# Variável carregada 'df' do URI: mdl_user.csv\n",
    "df = pd.read_csv(r'dataset/mdl_user.csv')\n",
    "\n",
    "df_clean = clean_data(df.copy())\n",
    "df_clean.head()"
   ]
  }
 ],
 "metadata": {
  "kernelspec": {
   "display_name": "Python 3",
   "language": "python",
   "name": "python3"
  },
  "language_info": {
   "name": "python",
   "version": "3.8.10"
  }
 },
 "nbformat": 4,
 "nbformat_minor": 2
}
